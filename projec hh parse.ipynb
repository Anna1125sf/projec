{
 "cells": [
  {
   "cell_type": "code",
   "execution_count": null,
   "metadata": {},
   "outputs": [],
   "source": [
    "import requests      # Для запросов по API\n",
    "import json          # Для обработки полученных результатов\n",
    "import time          # Для задержки между запросами\n",
    "import os            # Для работы с файлами\n",
    "import pandas as pd  # Для формирования датафрейма с результатами"
   ]
  },
  {
   "cell_type": "code",
   "execution_count": null,
   "metadata": {},
   "outputs": [],
   "source": [
    "def getPage(page):\n",
    "    params = {\n",
    "        'employer_id': 39305,  # ID 2ГИС\n",
    "        'page': page,         # Номер страницы\n",
    "        'per_page': 100       # Кол-во вакансий на 1 странице\n",
    "    }   \n",
    "    req = requests.get('https://api.hh.ru/vacancies', params)\n",
    "    data = req.content.decode() \n",
    "    req.close()\n",
    "    return data\n",
    "    \n",
    "json_s = [] \n",
    "\n",
    "for page in range(0, 100):\n",
    "    print(page)\n",
    "    jsObj = json.loads(getPage(page))\n",
    "    \n",
    "    json_s+=jsObj['items']\n",
    "\n",
    "    if (jsObj['pages'] - page) <= 1:  \n",
    "        break\n",
    "    time.sleep(0.2)\n",
    "\n",
    "\n",
    "repr= []\n",
    "for i in json_s:\n",
    "    try:\n",
    "        d_mvf={'id':str(i['id']),\n",
    "        'name':i['name'],\n",
    "        'department':i['department'] if i['department']==None else i['department']['name'],\n",
    "        'response_letter_required':1 if i['response_letter_required'] else 0,\n",
    "        'type':i['type']['name'],\n",
    "        'created_at':i['created_at'][:-6],\n",
    "        'employer': i['employer']['name'],\n",
    "        'accredited_it_employer': 1 if 'accredited_it_employer' in i['employer'].keys() else 0,\n",
    "        'schedule':i['schedule']['name'],\n",
    "        'accept_temporary':1 if i['accept_temporary'] else 0,\n",
    "        'professional_roles':i['professional_roles'][0]['name'],\n",
    "        'experience':sum([int(i) for i in i['experience']['name'].split(' ') if i.isnumeric()])/2,\n",
    "        'employment':i['employment']['name']}\n",
    "        \n",
    "        if 'salary' in i.keys():\n",
    "            d_mvf['salary']=i['salary'] if i['salary']==None else i['salary']['from']\n",
    "        repr+=[d_mvf]\n",
    "    except:\n",
    "        pass\n",
    "repr = pd.DataFrame(repr)\n",
    "repr"
   ]
  },
  {
   "cell_type": "code",
   "execution_count": null,
   "metadata": {},
   "outputs": [],
   "source": [
    "for i in range(len(repr)):\n",
    "    data= list(repr.iloc[i])\n",
    "    print(data)\n",
    "    cursor.execute('''INSERT INTO resume_data (\n",
    "    id,name,department,response_letter_required,type,created_at,employer,accredited_it_employer,schedule,accept_temporary,professional_roles,experience,employment,salary\n",
    "\n",
    "    ) VALUES (?, ?, ?, ?, ?,?, ?, ?, ?, ?, ?, ?, ?, ?)''', data)\n",
    "    connection.commit()"
   ]
  },
  {
   "cell_type": "code",
   "execution_count": 1,
   "metadata": {},
   "outputs": [
    {
     "data": {
      "text/plain": [
       "<sqlite3.Cursor at 0x1a292f67140>"
      ]
     },
     "execution_count": 1,
     "metadata": {},
     "output_type": "execute_result"
    }
   ],
   "source": [
    "import sqlite3\n",
    "import os\n",
    "# Устанавливаем соединение с базой данных\n",
    "\n",
    "dir_current = os.getcwd()\n",
    "# Устанавливаем соединение с базой данных\n",
    "connection = sqlite3.connect(dir_current+'/my_database.db')\n",
    "cursor = connection.cursor()\n",
    "\n",
    "cursor.execute('''drop TABLE resume_data ''')\n",
    "# Создаем таблицу Users\n",
    "cursor.execute('''CREATE TABLE IF NOT EXISTS resume_data (\n",
    "id                           text,\n",
    "name                         text,\n",
    "department                   text,\n",
    "response_letter_required       text,\n",
    "type                         text,\n",
    "created_at                   date,\n",
    "employer                     text,\n",
    "accredited_it_employer         text,\n",
    "schedule                     text,\n",
    "accept_temporary               text,\n",
    "professional_roles           text,\n",
    "experience                  float,\n",
    "employment                   text,\n",
    "salary                      float\n",
    "\n",
    ")''')"
   ]
  },
  {
   "cell_type": "code",
   "execution_count": null,
   "metadata": {},
   "outputs": [],
   "source": [
    "import os\n"
   ]
  },
  {
   "cell_type": "code",
   "execution_count": null,
   "metadata": {},
   "outputs": [],
   "source": []
  }
 ],
 "metadata": {
  "kernelspec": {
   "display_name": "Python 3",
   "language": "python",
   "name": "python3"
  },
  "language_info": {
   "codemirror_mode": {
    "name": "ipython",
    "version": 3
   },
   "file_extension": ".py",
   "mimetype": "text/x-python",
   "name": "python",
   "nbconvert_exporter": "python",
   "pygments_lexer": "ipython3",
   "version": "3.11.9"
  }
 },
 "nbformat": 4,
 "nbformat_minor": 2
}
